{
 "cells": [
  {
   "cell_type": "code",
   "execution_count": 1,
   "metadata": {
    "collapsed": false
   },
   "outputs": [],
   "source": [
    "#This jupyter notebook demonstrates the makerFunctions class which\n",
    "#I wrote to generate LAMMPS data files for DPD simulations.\n",
    "\n",
    "import makerFunctionsClass as mf\n",
    "import matplotlib.pyplot as py"
   ]
  },
  {
   "cell_type": "code",
   "execution_count": 2,
   "metadata": {
    "collapsed": true
   },
   "outputs": [],
   "source": [
    "#System information. The first system has three atom types. The first two are in the polymer chain, and the \n",
    "#third is solvent. There is one chain, which should make up 0.25 volume of the box.\n",
    "#Angle types can be specified. Here, 1_1_1 and 1_1-2 are angle type 1, while 2-2-2 is angle type 2.\n",
    "#Note here that bond types MUST match the sequence for the angle to be detected\n",
    "sysin='''numtypes=3\n",
    "sequence=1_1_1_1-2-2-2-2\n",
    "numChains=1\n",
    "volFraction=0.25\n",
    "angles=True\n",
    "angle=1_1_1:1\n",
    "angle=1_1-2:1\n",
    "angle=2-2-2:2'''\n",
    "\n",
    "#System information - more complicated system. More atom types, chains, and angle types\n",
    "sys2in='''numtypes=4\n",
    "sequence=1_1_1_1_1_1_2-2-3-3-3-3-3-3-3-3\n",
    "numChains=10\n",
    "volFraction=0.1\n",
    "angles=True\n",
    "angle=1_1_1:1\n",
    "angle=1_1_2:1\n",
    "angle=1_2_1:2\n",
    "angle=2_1_1:2\n",
    "angle=1_1_3:3'''\n",
    "\n"
   ]
  },
  {
   "cell_type": "code",
   "execution_count": 3,
   "metadata": {
    "collapsed": false
   },
   "outputs": [
    {
     "name": "stdout",
     "output_type": "stream",
     "text": [
      "Printing Info for system...\n",
      "Input Parameters: \n",
      "Number of Atom Types:\t\t3\n",
      "Polymer sequence:\t\t1_1_1_1-2-2-2-2\n",
      "Number of polymer chains:\t\t1\n",
      "Polymer volume fraction:\t\t0.25\n",
      "System Angles:\t\tTrue\n",
      "Number of Angle Types:\t\t2\n",
      "\n",
      "\n",
      "\n",
      "Printing Info for system...\n",
      "Input Parameters: \n",
      "Number of Atom Types:\t\t4\n",
      "Polymer sequence:\t\t1_1_1_1_1_1_2-2-3-3-3-3-3-3-3-3\n",
      "Number of polymer chains:\t\t10\n",
      "Polymer volume fraction:\t\t0.1\n",
      "System Angles:\t\tTrue\n",
      "Number of Angle Types:\t\t3\n"
     ]
    }
   ],
   "source": [
    "x=mf.makerFunctions(sysin)\n",
    "print \"\\n\\n\"\n",
    "y=mf.makerFunctions(sys2in)"
   ]
  },
  {
   "cell_type": "code",
   "execution_count": 4,
   "metadata": {
    "collapsed": false
   },
   "outputs": [
    {
     "name": "stdout",
     "output_type": "stream",
     "text": [
      "1_1_1_1-2-2-2-2_1_0p25.data file written\n",
      "\n",
      "1_1_1_1_1_1_2-2-3-3-3-3-3-3-3-3_10_0p1.data file written\n",
      "\n"
     ]
    }
   ],
   "source": [
    "x.writeDataFile()\n",
    "y.writeDataFile()"
   ]
  },
  {
   "cell_type": "code",
   "execution_count": 5,
   "metadata": {
    "collapsed": false
   },
   "outputs": [
    {
     "name": "stdout",
     "output_type": "stream",
     "text": [
      "LAMMPS data file for system 1_1_1_1-2-2-2-2_1_0p25.data\n",
      "\n",
      "32 atoms\n",
      "7 bonds\n",
      "5 angles\n",
      "0 dihedrals\n",
      "0 impropers\n",
      "3 atom types\n",
      "2 bond types\n",
      "2 angle types\n",
      "\n",
      "0 2.201 xlo xhi\n",
      "0 2.201 ylo yhi\n",
      "0 2.201 zlo zhi\n",
      "\n",
      "\n",
      "\n",
      "\n",
      "LAMMPS data file for system 1_1_1_1_1_1_2-2-3-3-3-3-3-3-3-3_10_0p1.data\n",
      "\n",
      "1599 atoms\n",
      "150 bonds\n",
      "50 angles\n",
      "0 dihedrals\n",
      "0 impropers\n",
      "4 atom types\n",
      "2 bond types\n",
      "3 angle types\n",
      "\n",
      "0 8.109 xlo xhi\n",
      "0 8.109 ylo yhi\n",
      "0 8.109 zlo zhi\n",
      "\n"
     ]
    }
   ],
   "source": [
    "x.printDataFilePreview()\n",
    "print \"\\n\\n\"\n",
    "y.printDataFilePreview()"
   ]
  },
  {
   "cell_type": "code",
   "execution_count": 6,
   "metadata": {
    "collapsed": false
   },
   "outputs": [
    {
     "name": "stdout",
     "output_type": "stream",
     "text": [
      "LAMMPS data file for system 1_1_1_1-2-2-2-2_1_0p25.data\n",
      "\n",
      "32 atoms\n",
      "7 bonds\n",
      "5 angles\n",
      "0 dihedrals\n",
      "0 impropers\n",
      "3 atom types\n",
      "2 bond types\n",
      "2 angle types\n",
      "\n",
      "0 2.201 xlo xhi\n",
      "0 2.201 ylo yhi\n",
      "0 2.201 zlo zhi\n",
      "\n",
      "Atoms\n",
      "\n",
      "1 1 1 1.31522090036 1.18843517548 1.14177540691 \n",
      "2 1 1 1.71846566757 1.61772407149 1.31371838794 \n",
      "3 1 1 1.38575281041 1.83550403336 1.49937344782 \n",
      "4 1 1 1.40978726083 1.93172351647 1.26136334966 \n",
      "5 1 2 1.6486714721 2.33088946349 1.65718549018 \n",
      "6 1 2 1.71639491548 2.35118950806 1.32566905964 \n",
      "7 1 2 1.61006898271 1.87063593362 1.6988769729 \n",
      "8 1 2 1.98479682569 1.94810898128 1.53109758136 \n",
      "9 2 3 0.52826641811 1.54377073516 1.10290637642 \n",
      "10 3 3 1.80905350678 0.781344450196 0.52839720874 \n",
      "11 4 3 1.06969954322 2.13647839964 0.815493101365 \n",
      "12 5 3 0.515010091665 0.917260323036 1.98594514143 \n",
      "13 6 3 2.04765176992 1.49993718081 2.19018750243 \n",
      "14 7 3 1.09975807778 1.79580887688 0.180615543137 \n",
      "15 8 3 1.41037375809 1.74608311322 1.00231914959 \n",
      "16 9 3 1.17704810739 1.38100975644 0.433732539034 \n",
      "17 10 3 2.08697299557 0.201976455841 0.567649672828 \n",
      "18 11 3 1.45970394593 1.13235662228 1.32156872381 \n",
      "19 12 3 1.85097091409 1.5930168306 0.718510172498 \n",
      "20 13 3 0.249024893514 1.5264767908 1.92253767192 \n",
      "21 14 3 0.0315043890576 1.65044592536 0.724864837817 \n",
      "22 15 3 0.391284213837 1.16848441852 1.19208782157 \n",
      "23 16 3 0.435822767694 1.80658695131 0.0158401406043 \n",
      "24 17 3 0.994536237203 2.05419803973 1.95001852113 \n",
      "25 18 3 1.31829852221 0.885336176673 0.471461087718 \n",
      "26 19 3 2.09960366111 0.161174431172 1.45040008062 \n",
      "27 20 3 1.67203985929 0.233904397737 1.39938809341 \n",
      "28 21 3 0.295986425477 1.7041367051 0.295934566923 \n",
      "29 22 3 1.7175486914 1.87290740027 0.281912914933 \n",
      "30 23 3 0.69021363428 2.18633973439 1.31091024551 \n",
      "31 24 3 1.63107651628 1.91416708497 0.645795607545 \n",
      "32 25 3 1.41713588867 1.14403296183 1.13404837537 \n",
      "\n",
      "Bonds\n",
      "\n",
      "1 2 1 2 \n",
      "2 2 2 3 \n",
      "3 2 3 4 \n",
      "4 1 4 5 \n",
      "5 1 5 6 \n",
      "6 1 6 7 \n",
      "7 1 7 8 \n",
      "\n",
      "Angles\n",
      "\n",
      "1 1 1 2 3 \n",
      "2 1 2 3 4 \n",
      "3 1 3 4 5 \n",
      "4 2 5 6 7 \n",
      "5 2 6 7 8 \n"
     ]
    }
   ],
   "source": [
    "#Print full data file for one\n",
    "x.printDataFile()"
   ]
  },
  {
   "cell_type": "code",
   "execution_count": null,
   "metadata": {
    "collapsed": true
   },
   "outputs": [],
   "source": []
  }
 ],
 "metadata": {
  "anaconda-cloud": {},
  "kernelspec": {
   "display_name": "Python [conda root]",
   "language": "python",
   "name": "conda-root-py"
  },
  "language_info": {
   "codemirror_mode": {
    "name": "ipython",
    "version": 2
   },
   "file_extension": ".py",
   "mimetype": "text/x-python",
   "name": "python",
   "nbconvert_exporter": "python",
   "pygments_lexer": "ipython2",
   "version": "2.7.13"
  }
 },
 "nbformat": 4,
 "nbformat_minor": 2
}
