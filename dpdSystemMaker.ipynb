{
 "cells": [
  {
   "cell_type": "code",
   "execution_count": 1,
   "metadata": {
    "collapsed": false
   },
   "outputs": [],
   "source": [
    "#This jupyter notebook demonstrates the makerFunctions class which\n",
    "#I wrote to generate LAMMPS data files for DPD simulations.\n",
    "\n",
    "import makerFunctionsClass as mf\n",
    "import matplotlib.pyplot as py"
   ]
  },
  {
   "cell_type": "code",
   "execution_count": 2,
   "metadata": {
    "collapsed": true
   },
   "outputs": [],
   "source": [
    "#System information. The first system has three atom types. The first two are in the polymer chain, and the \n",
    "#third is solvent. There is one chain, which should make up 0.25 volume of the box.\n",
    "#Angle types can be specified. Here, 1_1_1 and 1_1-2 are angle type 1, while 2-2-2 is angle type 2.\n",
    "#Note here that bond types MUST match the sequence for the angle to be detected\n",
    "sysin='''numtypes=3\n",
    "sequence=1_1_1_1-2-2-2-2\n",
    "numChains=1\n",
    "volFraction=0.25\n",
    "angles=True\n",
    "angle=1_1_1:1\n",
    "angle=1_1-2:1\n",
    "angle=2-2-2:2'''\n",
    "\n",
    "#System information - more complicated system. More atom types, chains, and angle types\n",
    "sys2in='''numtypes=4\n",
    "sequence=1_1_1_1_1_1_2-2-3-3-3-3-3-3-3-3\n",
    "numChains=10\n",
    "volFraction=0.1\n",
    "angles=True\n",
    "angle=1_1_1:1\n",
    "angle=1_1_2:1\n",
    "angle=1_2_1:2\n",
    "angle=2_1_1:2\n",
    "angle=1_1_3:3'''\n",
    "\n"
   ]
  },
  {
   "cell_type": "code",
   "execution_count": 3,
   "metadata": {
    "collapsed": false
   },
   "outputs": [
    {
     "name": "stdout",
     "output_type": "stream",
     "text": [
      "Printing Info for system...\n",
      "Input Parameters: \n",
      "Number of Atom Types:\t\t3\n",
      "Polymer sequence:\t\t1_1_1_1-2-2-2-2\n",
      "Number of polymer chains:\t\t1\n",
      "Polymer volume fraction:\t\t0.25\n",
      "System Angles:\t\tTrue\n",
      "Number of Angle Types:\t\t2\n",
      "\n",
      "\n",
      "\n",
      "Printing Info for system...\n",
      "Input Parameters: \n",
      "Number of Atom Types:\t\t4\n",
      "Polymer sequence:\t\t1_1_1_1_1_1_2-2-3-3-3-3-3-3-3-3\n",
      "Number of polymer chains:\t\t10\n",
      "Polymer volume fraction:\t\t0.1\n",
      "System Angles:\t\tTrue\n",
      "Number of Angle Types:\t\t3\n"
     ]
    }
   ],
   "source": [
    "x=mf.makerFunctions(sysin)\n",
    "print(\"\\n\\n\")\n",
    "y=mf.makerFunctions(sys2in)"
   ]
  },
  {
   "cell_type": "code",
   "execution_count": 4,
   "metadata": {
    "collapsed": false
   },
   "outputs": [
    {
     "name": "stdout",
     "output_type": "stream",
     "text": [
      "1_1_1_1-2-2-2-2_1_0p25.data file written\n",
      "\n",
      "1_1_1_1_1_1_2-2-3-3-3-3-3-3-3-3_10_0p1.data file written\n",
      "\n"
     ]
    }
   ],
   "source": [
    "x.writeDataFile()\n",
    "y.writeDataFile()"
   ]
  },
  {
   "cell_type": "code",
   "execution_count": 5,
   "metadata": {
    "collapsed": false
   },
   "outputs": [
    {
     "name": "stdout",
     "output_type": "stream",
     "text": [
      "LAMMPS data file for system 1_1_1_1-2-2-2-2_1_0p25.data\n",
      "\n",
      "32 atoms\n",
      "7 bonds\n",
      "5 angles\n",
      "0 dihedrals\n",
      "0 impropers\n",
      "3 atom types\n",
      "2 bond types\n",
      "2 angle types\n",
      "\n",
      "0 2.201 xlo xhi\n",
      "0 2.201 ylo yhi\n",
      "0 2.201 zlo zhi\n",
      "\n",
      "\n",
      "\n",
      "\n",
      "LAMMPS data file for system 1_1_1_1_1_1_2-2-3-3-3-3-3-3-3-3_10_0p1.data\n",
      "\n",
      "1599 atoms\n",
      "150 bonds\n",
      "50 angles\n",
      "0 dihedrals\n",
      "0 impropers\n",
      "4 atom types\n",
      "2 bond types\n",
      "3 angle types\n",
      "\n",
      "0 8.109 xlo xhi\n",
      "0 8.109 ylo yhi\n",
      "0 8.109 zlo zhi\n",
      "\n"
     ]
    }
   ],
   "source": [
    "x.printDataFilePreview()\n",
    "print(\"\\n\\n\")\n",
    "y.printDataFilePreview()"
   ]
  },
  {
   "cell_type": "code",
   "execution_count": null,
   "metadata": {
    "collapsed": false
   },
   "outputs": [],
   "source": [
    "#Print full data file for one\n",
    "x.printDataFile()"
   ]
  },
  {
   "cell_type": "code",
   "execution_count": null,
   "metadata": {
    "collapsed": true
   },
   "outputs": [],
   "source": []
  }
 ],
 "metadata": {
  "anaconda-cloud": {},
  "kernelspec": {
   "display_name": "Python [conda env:sss]",
   "language": "python",
   "name": "conda-env-sss-py"
  },
  "language_info": {
   "codemirror_mode": {
    "name": "ipython",
    "version": 3
   },
   "file_extension": ".py",
   "mimetype": "text/x-python",
   "name": "python",
   "nbconvert_exporter": "python",
   "pygments_lexer": "ipython3",
   "version": "3.5.3"
  }
 },
 "nbformat": 4,
 "nbformat_minor": 2
}
